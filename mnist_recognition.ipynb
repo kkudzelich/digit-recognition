{
 "cells": [
  {
   "cell_type": "code",
   "execution_count": 1,
   "metadata": {},
   "outputs": [],
   "source": [
    "import mnist\n",
    "import matplotlib.pyplot as plt\n",
    "import numpy as np\n",
    "from numpy import ndarray\n",
    "import torch\n",
    "import torchvision.transforms as transforms\n",
    "from torchvision.datasets import MNIST\n",
    "import torch.nn as nn\n",
    "from sklearn.metrics import classification_report, f1_score\n",
    "import torch.optim as optim\n",
    "from torch.utils.data import DataLoader, Dataset\n",
    "from tqdm import tqdm\n",
    "import os\n",
    "from struct import unpack\n",
    "import mlflow"
   ]
  },
  {
   "cell_type": "markdown",
   "metadata": {},
   "source": [
    "# 1. Read MNIST from the disk"
   ]
  },
  {
   "cell_type": "code",
   "execution_count": 2,
   "metadata": {},
   "outputs": [
    {
     "name": "stdout",
     "output_type": "stream",
     "text": [
      "Train Images Shape: (60000, 28, 28)\n",
      "Train Labels Shape: (60000,)\n",
      "Test Images Shape: (10000, 28, 28)\n",
      "Test Labels Shape: (10000,)\n"
     ]
    }
   ],
   "source": [
    "def read_images(filename):\n",
    "    with open(filename, 'rb') as f:\n",
    "        magic, num_images = unpack('>II', f.read(8))\n",
    "        num_rows, num_cols = unpack('>II', f.read(8))\n",
    "        images = np.fromfile(f, dtype=np.uint8).reshape(num_images, num_rows, num_cols)\n",
    "    return images\n",
    "\n",
    "def read_labels(filename):\n",
    "    with open(filename, 'rb') as f:\n",
    "        # both not needed for the kaggleton\n",
    "        magic, num_labels = unpack('>II', f.read(8))\n",
    "        labels = np.fromfile(f, dtype=np.uint8)\n",
    "    return labels\n",
    "\n",
    "\n",
    "path = 'D:/IT/Data_science/lessons/kaggle 7/digit-recognition/input'\n",
    "\n",
    "train_images = read_images(os.path.join(path, 'train-images.idx3-ubyte'))\n",
    "train_labels = read_labels(os.path.join(path, 'train-labels.idx1-ubyte'))\n",
    "\n",
    "test_images = read_images(os.path.join(path, 't10k-images.idx3-ubyte'))\n",
    "test_labels = read_labels(os.path.join(path, 't10k-labels.idx1-ubyte'))\n",
    "\n",
    "print(f\"Train Images Shape: {train_images.shape}\")\n",
    "print(f\"Train Labels Shape: {train_labels.shape}\")\n",
    "print(f\"Test Images Shape: {test_images.shape}\")\n",
    "print(f\"Test Labels Shape: {test_labels.shape}\")"
   ]
  },
  {
   "cell_type": "code",
   "execution_count": 3,
   "metadata": {},
   "outputs": [
    {
     "data": {
      "image/png": "[encoded data removed]",
      "text/plain": [
       "<Figure size 1500x300 with 5 Axes>"
      ]
     },
     "metadata": {},
     "output_type": "display_data"
    }
   ],
   "source": [
    "fig, axes = plt.subplots(nrows=1, ncols=5, figsize=(15, 3))\n",
    "\n",
    "for i, ax in enumerate(axes):\n",
    "    ax.imshow(train_images[i], cmap='gray')\n",
    "    ax.title.set_text(f'Label: {train_labels[i]}')\n",
    "    ax.axis('off')\n",
    "plt.show()"
   ]
  },
  {
   "cell_type": "code",
   "execution_count": 4,
   "metadata": {},
   "outputs": [
    {
     "data": {
      "text/plain": [
       "array([[  0,   0,   0,   0,   0,   0,   0,   0,   0,   0,   0,   0,   0,\n",
       "          0,   0,   0,   0,   0,   0,   0,   0,   0,   0,   0,   0,   0,\n",
       "          0,   0],\n",
       "       [  0,   0,   0,   0,   0,   0,   0,   0,   0,   0,   0,   0,   0,\n",
       "          0,   0,   0,   0,   0,   0,   0,   0,   0,   0,   0,   0,   0,\n",
       "          0,   0],\n",
       "       [  0,   0,   0,   0,   0,   0,   0,   0,   0,   0,   0,   0,   0,\n",
       "          0,   0,   0,   0,   0,   0,   0,   0,   0,   0,   0,   0,   0,\n",
       "          0,   0],\n",
       "       [  0,   0,   0,   0,   0,   0,   0,   0,   0,   0,   0,   0,   0,\n",
       "          0,   0,   0,   0,   0,   0,   0,   0,   0,   0,   0,   0,   0,\n",
       "          0,   0],\n",
       "       [  0,   0,   0,   0,   0,   0,   0,   0,   0,   0,   0,   0,   0,\n",
       "          0,   0,   0,   0,   0,   0,   0,   0,   0,   0,   0,   0,   0,\n",
       "          0,   0],\n",
       "       [  0,   0,   0,   0,   0,   0,   0,   0,   0,   0,   0,   0,   3,\n",
       "         18,  18,  18, 126, 136, 175,  26, 166, 255, 247, 127,   0,   0,\n",
       "          0,   0],\n",
       "       [  0,   0,   0,   0,   0,   0,   0,   0,  30,  36,  94, 154, 170,\n",
       "        253, 253, 253, 253, 253, 225, 172, 253, 242, 195,  64,   0,   0,\n",
       "          0,   0],\n",
       "       [  0,   0,   0,   0,   0,   0,   0,  49, 238, 253, 253, 253, 253,\n",
       "        253, 253, 253, 253, 251,  93,  82,  82,  56,  39,   0,   0,   0,\n",
       "          0,   0],\n",
       "       [  0,   0,   0,   0,   0,   0,   0,  18, 219, 253, 253, 253, 253,\n",
       "        253, 198, 182, 247, 241,   0,   0,   0,   0,   0,   0,   0,   0,\n",
       "          0,   0],\n",
       "       [  0,   0,   0,   0,   0,   0,   0,   0,  80, 156, 107, 253, 253,\n",
       "        205,  11,   0,  43, 154,   0,   0,   0,   0,   0,   0,   0,   0,\n",
       "          0,   0],\n",
       "       [  0,   0,   0,   0,   0,   0,   0,   0,   0,  14,   1, 154, 253,\n",
       "         90,   0,   0,   0,   0,   0,   0,   0,   0,   0,   0,   0,   0,\n",
       "          0,   0],\n",
       "       [  0,   0,   0,   0,   0,   0,   0,   0,   0,   0,   0, 139, 253,\n",
       "        190,   2,   0,   0,   0,   0,   0,   0,   0,   0,   0,   0,   0,\n",
       "          0,   0],\n",
       "       [  0,   0,   0,   0,   0,   0,   0,   0,   0,   0,   0,  11, 190,\n",
       "        253,  70,   0,   0,   0,   0,   0,   0,   0,   0,   0,   0,   0,\n",
       "          0,   0],\n",
       "       [  0,   0,   0,   0,   0,   0,   0,   0,   0,   0,   0,   0,  35,\n",
       "        241, 225, 160, 108,   1,   0,   0,   0,   0,   0,   0,   0,   0,\n",
       "          0,   0],\n",
       "       [  0,   0,   0,   0,   0,   0,   0,   0,   0,   0,   0,   0,   0,\n",
       "         81, 240, 253, 253, 119,  25,   0,   0,   0,   0,   0,   0,   0,\n",
       "          0,   0],\n",
       "       [  0,   0,   0,   0,   0,   0,   0,   0,   0,   0,   0,   0,   0,\n",
       "          0,  45, 186, 253, 253, 150,  27,   0,   0,   0,   0,   0,   0,\n",
       "          0,   0],\n",
       "       [  0,   0,   0,   0,   0,   0,   0,   0,   0,   0,   0,   0,   0,\n",
       "          0,   0,  16,  93, 252, 253, 187,   0,   0,   0,   0,   0,   0,\n",
       "          0,   0],\n",
       "       [  0,   0,   0,   0,   0,   0,   0,   0,   0,   0,   0,   0,   0,\n",
       "          0,   0,   0,   0, 249, 253, 249,  64,   0,   0,   0,   0,   0,\n",
       "          0,   0],\n",
       "       [  0,   0,   0,   0,   0,   0,   0,   0,   0,   0,   0,   0,   0,\n",
       "          0,  46, 130, 183, 253, 253, 207,   2,   0,   0,   0,   0,   0,\n",
       "          0,   0],\n",
       "       [  0,   0,   0,   0,   0,   0,   0,   0,   0,   0,   0,   0,  39,\n",
       "        148, 229, 253, 253, 253, 250, 182,   0,   0,   0,   0,   0,   0,\n",
       "          0,   0],\n",
       "       [  0,   0,   0,   0,   0,   0,   0,   0,   0,   0,  24, 114, 221,\n",
       "        253, 253, 253, 253, 201,  78,   0,   0,   0,   0,   0,   0,   0,\n",
       "          0,   0],\n",
       "       [  0,   0,   0,   0,   0,   0,   0,   0,  23,  66, 213, 253, 253,\n",
       "        253, 253, 198,  81,   2,   0,   0,   0,   0,   0,   0,   0,   0,\n",
       "          0,   0],\n",
       "       [  0,   0,   0,   0,   0,   0,  18, 171, 219, 253, 253, 253, 253,\n",
       "        195,  80,   9,   0,   0,   0,   0,   0,   0,   0,   0,   0,   0,\n",
       "          0,   0],\n",
       "       [  0,   0,   0,   0,  55, 172, 226, 253, 253, 253, 253, 244, 133,\n",
       "         11,   0,   0,   0,   0,   0,   0,   0,   0,   0,   0,   0,   0,\n",
       "          0,   0],\n",
       "       [  0,   0,   0,   0, 136, 253, 253, 253, 212, 135, 132,  16,   0,\n",
       "          0,   0,   0,   0,   0,   0,   0,   0,   0,   0,   0,   0,   0,\n",
       "          0,   0],\n",
       "       [  0,   0,   0,   0,   0,   0,   0,   0,   0,   0,   0,   0,   0,\n",
       "          0,   0,   0,   0,   0,   0,   0,   0,   0,   0,   0,   0,   0,\n",
       "          0,   0],\n",
       "       [  0,   0,   0,   0,   0,   0,   0,   0,   0,   0,   0,   0,   0,\n",
       "          0,   0,   0,   0,   0,   0,   0,   0,   0,   0,   0,   0,   0,\n",
       "          0,   0],\n",
       "       [  0,   0,   0,   0,   0,   0,   0,   0,   0,   0,   0,   0,   0,\n",
       "          0,   0,   0,   0,   0,   0,   0,   0,   0,   0,   0,   0,   0,\n",
       "          0,   0]], dtype=uint8)"
      ]
     },
     "execution_count": 4,
     "metadata": {},
     "output_type": "execute_result"
    }
   ],
   "source": [
    "train_images[0]"
   ]
  },
  {
   "cell_type": "code",
   "execution_count": 5,
   "metadata": {},
   "outputs": [],
   "source": [
    "class MNISTDataset(Dataset):\n",
    "    \"\"\"MNIST dataset.\"\"\"\n",
    "    \n",
    "    def __init__(self, images: ndarray, labels: ndarray, transform=None):\n",
    "        \"\"\"\n",
    "        Args:\n",
    "            images (numpy.ndarray): Images data.\n",
    "            labels (numpy.ndarray): Labels data.\n",
    "            transform (callable, optional): Optional transform to be applied on a sample.\n",
    "        \"\"\"\n",
    "        self.images = images\n",
    "        self.labels = labels\n",
    "        self.transform = transform\n",
    "        \n",
    "    def __len__(self):\n",
    "        return len(self.images)\n",
    "    \n",
    "    def __getitem__(self, idx):\n",
    "        image = self.images[idx]\n",
    "        label = self.labels[idx]\n",
    "        \n",
    "        if self.transform:\n",
    "            image = self.transform(image)\n",
    "        \n",
    "        return image, label"
   ]
  },
  {
   "cell_type": "markdown",
   "metadata": {},
   "source": [
    "# 2. Normalization"
   ]
  },
  {
   "cell_type": "code",
   "execution_count": 6,
   "metadata": {},
   "outputs": [],
   "source": [
    "def normalize(data):\n",
    "    return (data / 255)\n",
    "\n",
    "train_images = normalize(train_images)\n",
    "test_images = normalize(test_images)"
   ]
  },
  {
   "cell_type": "markdown",
   "metadata": {},
   "source": [
    "# 3. Datasets and Dataloaders"
   ]
  },
  {
   "cell_type": "code",
   "execution_count": 7,
   "metadata": {},
   "outputs": [],
   "source": [
    "transform = transforms.Compose([\n",
    "    transforms.ToPILImage(),  # Convert a numpy.ndarray to PIL Image.\n",
    "    transforms.ToTensor(),  # Converts a PIL Image to a tensor.\n",
    "])\n",
    "\n",
    "# Train\n",
    "train_dataset = MNISTDataset(images=train_images,\n",
    "                             labels=train_labels,\n",
    "                             transform=transform)\n",
    "train_loader = DataLoader(train_dataset, batch_size=64, shuffle=True)\n",
    "\n",
    "# Test\n",
    "test_dataset = MNISTDataset(images=test_images,\n",
    "                            labels=test_labels,\n",
    "                            transform=transform)\n",
    "test_loader = DataLoader(test_dataset, batch_size=64, shuffle=False)"
   ]
  },
  {
   "cell_type": "code",
   "execution_count": 8,
   "metadata": {},
   "outputs": [
    {
     "data": {
      "image/png": "[encoded data removed]",
      "text/plain": [
       "<Figure size 1200x400 with 10 Axes>"
      ]
     },
     "metadata": {},
     "output_type": "display_data"
    }
   ],
   "source": [
    "fig, ax = plt.subplots(nrows=2, ncols=5, figsize=(12, 4))\n",
    "\n",
    "k = 0\n",
    "for i in range(2):\n",
    "    for j in range(5):\n",
    "        ax[i, j].imshow(train_images[k], cmap='gray')\n",
    "        ax[i, j].title.set_text(f'Label: {train_labels[k]}')\n",
    "        ax[i, j].axis('off')\n",
    "        k+=1\n",
    "plt.show()"
   ]
  },
  {
   "cell_type": "code",
   "execution_count": 9,
   "metadata": {},
   "outputs": [
    {
     "name": "stdout",
     "output_type": "stream",
     "text": [
      "Batch images shape: torch.Size([64, 1, 28, 28])\n",
      "Batch labels shape: torch.Size([64])\n"
     ]
    }
   ],
   "source": [
    "# Example of iterating over DataLoader\n",
    "for images, labels in train_loader:\n",
    "    print(f'Batch images shape: {images.shape}')\n",
    "    print(f'Batch labels shape: {labels.shape}')\n",
    "    break  # Example stops after the first batch"
   ]
  },
  {
   "cell_type": "markdown",
   "metadata": {},
   "source": [
    "# 4. CNN"
   ]
  },
  {
   "cell_type": "markdown",
   "metadata": {},
   "source": [
    "# Architecture"
   ]
  },
  {
   "cell_type": "code",
   "execution_count": 41,
   "metadata": {},
   "outputs": [],
   "source": [
    "class DigitRecognition(nn.Module):\n",
    "    def __init__(self, num_classes):\n",
    "        super(DigitRecognition, self).__init__()\n",
    "        self.num_classes = num_classes\n",
    "\n",
    "        self.conv1 = nn.Conv2d(in_channels=1,\n",
    "                               out_channels=32,\n",
    "                               kernel_size=(3,3),\n",
    "                               padding=2)\n",
    "\n",
    "        self.conv2 = nn.Conv2d(in_channels=32,\n",
    "                               out_channels=64,\n",
    "                               kernel_size=(4,4),\n",
    "                               padding=1)\n",
    "\n",
    "        self.pool = nn.MaxPool2d(kernel_size=(2,2))\n",
    "\n",
    "        self.linear = nn.Linear(64*7*7, num_classes)\n",
    "    \n",
    "    def forward(self, x):\n",
    "        x = self.conv1(x)\n",
    "        x = torch.relu(x)\n",
    "        x = self.pool(x)\n",
    "\n",
    "        x = self.conv2(x)\n",
    "        x = torch.relu(x)\n",
    "        x = self.pool(x)\n",
    "\n",
    "        x = torch.flatten(x, 1)\n",
    "        x = self.linear(x)\n",
    "        \n",
    "        return x"
   ]
  },
  {
   "cell_type": "markdown",
   "metadata": {},
   "source": [
    "# Parameters"
   ]
  },
  {
   "cell_type": "code",
   "execution_count": 42,
   "metadata": {},
   "outputs": [],
   "source": [
    "device = 'cpu'\n",
    "num_classes = 10 # ten numbers from 0 to 9\n",
    "model = DigitRecognition(num_classes=num_classes).to(device)\n",
    "\n",
    "n_epoch = 3\n",
    "learning_rate = 0.001\n",
    "optimizer = optim.Adam(model.parameters(), lr=learning_rate)\n",
    "criterion = nn.CrossEntropyLoss()"
   ]
  },
  {
   "cell_type": "code",
   "execution_count": 43,
   "metadata": {},
   "outputs": [
    {
     "name": "stderr",
     "output_type": "stream",
     "text": [
      "  0%|          | 0/3 [00:00<?, ?it/s]"
     ]
    },
    {
     "name": "stderr",
     "output_type": "stream",
     "text": [
      "Epoch3/3, Train loss:0.0374, Test loss: 0.0334: 100%|██████████| 3/3 [04:32<00:00, 90.84s/it]\n"
     ]
    },
    {
     "data": {
      "image/png": "[encoded data removed]",
      "text/plain": [
       "<Figure size 1500x700 with 2 Axes>"
      ]
     },
     "metadata": {},
     "output_type": "display_data"
    },
    {
     "name": "stdout",
     "output_type": "stream",
     "text": [
      "Train Classification Report:\n",
      "              precision    recall  f1-score   support\n",
      "\n",
      "           0       0.99      0.99      0.99      5923\n",
      "           1       0.99      1.00      0.99      6742\n",
      "           2       0.99      0.99      0.99      5958\n",
      "           3       0.99      0.99      0.99      6131\n",
      "           4       0.99      0.99      0.99      5842\n",
      "           5       0.99      0.99      0.99      5421\n",
      "           6       0.99      0.99      0.99      5918\n",
      "           7       0.99      0.99      0.99      6265\n",
      "           8       0.99      0.98      0.98      5851\n",
      "           9       0.98      0.98      0.98      5949\n",
      "\n",
      "    accuracy                           0.99     60000\n",
      "   macro avg       0.99      0.99      0.99     60000\n",
      "weighted avg       0.99      0.99      0.99     60000\n",
      "\n",
      "Test Classification Report:\n",
      "              precision    recall  f1-score   support\n",
      "\n",
      "           0       0.99      0.99      0.99       980\n",
      "           1       0.99      1.00      1.00      1135\n",
      "           2       0.98      0.99      0.99      1032\n",
      "           3       0.98      0.99      0.99      1010\n",
      "           4       0.99      1.00      1.00       982\n",
      "           5       0.98      0.99      0.99       892\n",
      "           6       1.00      0.99      0.99       958\n",
      "           7       0.99      0.99      0.99      1028\n",
      "           8       0.99      0.97      0.98       974\n",
      "           9       0.99      0.99      0.99      1009\n",
      "\n",
      "    accuracy                           0.99     10000\n",
      "   macro avg       0.99      0.99      0.99     10000\n",
      "weighted avg       0.99      0.99      0.99     10000\n",
      "\n"
     ]
    }
   ],
   "source": [
    "mlflow.set_experiment('MNIST')\n",
    "mlflow.set_tracking_uri(\"file://D:/IT/Data_science/lessons/kaggle 7/mlruns\")\n",
    "\n",
    "with mlflow.start_run(run_name='Final params'):\n",
    "    hyperparams = {\n",
    "        'n_epoch': 3,\n",
    "        'learning_rate': 0.001,\n",
    "        'conv1_out_channels': 32,\n",
    "        'conv2_out_channels': 64,\n",
    "        'conv1_kernel_size': (3, 3),\n",
    "        'conv2_kernel_size': (4, 4),\n",
    "        'pool_kernel_size': (2, 2),\n",
    "        'padding_conv1': 2,\n",
    "        'padding_conv2': 1,\n",
    "        'linear_input_size': 64 * 7 * 7,\n",
    "    }\n",
    "    \n",
    "    mlflow.log_params(hyperparams)\n",
    "\n",
    "    pbar = tqdm(range(n_epoch))\n",
    "\n",
    "    # dictionaries for recording loss values\n",
    "    train_losses = []\n",
    "    test_losses = []\n",
    "\n",
    "    train_f1_scores = []\n",
    "    test_f1_scores = []\n",
    "    train_reports = []\n",
    "    test_reports = []\n",
    "\n",
    "\n",
    "    for epoch in pbar:\n",
    "        #train mode\n",
    "        model.train()\n",
    "        running_train_loss = 0\n",
    "        \n",
    "        # dictionaries for recording predictions and targets for further f1 evaluation\n",
    "        train_predictions = []\n",
    "        train_targets = []\n",
    "\n",
    "        # iterate through train loader\n",
    "        for i, (images, labels) in enumerate(train_loader):\n",
    "            images, labels = images.to(device), labels.to(device) # send them to the device\n",
    "\n",
    "            optimizer.zero_grad() # zero grads\n",
    "            outputs = model(images) # outputs\n",
    "\n",
    "            train_loss = criterion(outputs, labels) # train loss\n",
    "            train_loss.backward() # count gradients\n",
    "\n",
    "            optimizer.step() # apply gradients\n",
    "\n",
    "            running_train_loss += train_loss.item()\n",
    "\n",
    "            # add train predictions and targets to dictionaries\n",
    "            train_predictions.extend(outputs.argmax(dim=1).detach().numpy())\n",
    "            train_targets.extend(labels.detach().numpy())\n",
    "\n",
    "        avg_train_loss = running_train_loss / len(train_loader) # average train loss per epoch\n",
    "        train_losses.append(avg_train_loss)\n",
    "\n",
    "        # calculate f1 and classification report\n",
    "        train_f1 = f1_score(train_targets, train_predictions, average='weighted')\n",
    "        train_report = classification_report(train_targets, train_predictions)\n",
    "\n",
    "        # add values to the dictionaries\n",
    "        train_f1_scores.append(train_f1)\n",
    "        train_reports.append(train_report)\n",
    "        \n",
    "\n",
    "        # eval mode\n",
    "        model.eval()\n",
    "        running_test_loss = 0\n",
    "\n",
    "        # dictionaries for recording predictions and targets for further f1 evaluation\n",
    "        test_predictions = []\n",
    "        test_targets = []\n",
    "\n",
    "        with torch.no_grad():\n",
    "            # iterate through test loader\n",
    "            for _i, (_images, _labels) in enumerate(test_loader):\n",
    "                _images, _labels = _images.to(device), _labels.to(device) # send them to the device\n",
    "\n",
    "                outputs = model(_images) # outputs\n",
    "                test_loss = criterion(outputs, _labels) # test loss\n",
    "\n",
    "                running_test_loss += test_loss.item()\n",
    "\n",
    "                # add test predictions and targets to dictionaries\n",
    "                test_predictions.extend(outputs.argmax(dim=1).detach().numpy())\n",
    "                test_targets.extend(_labels.detach().numpy())\n",
    "\n",
    "            avg_test_loss = running_test_loss / len(test_loader) # average test loss per epoch\n",
    "            test_losses.append(avg_test_loss)\n",
    "\n",
    "            # calculate f1 and classification report\n",
    "            test_f1 = f1_score(test_labels, test_predictions, average='weighted')\n",
    "            test_report = classification_report(test_labels, test_predictions)\n",
    "\n",
    "            # add values to the dictionaries\n",
    "            test_f1_scores.append(test_f1)\n",
    "            test_reports.append(test_report)\n",
    "\n",
    "            \n",
    "        pbar.set_description(f\"Epoch{epoch+1}/{n_epoch}, Train loss:{avg_train_loss:.4f}, Test loss: {avg_test_loss:.4f}\")\n",
    "\n",
    "    mlflow.log_metric(\"train_loss\", train_losses[-1])\n",
    "    mlflow.log_metric(\"test_loss\", test_losses[-1])\n",
    "    mlflow.log_metric(\"train_f1_score\", train_f1_scores[-1])\n",
    "    mlflow.log_metric(\"test_f1_score\", test_f1_scores[-1])\n",
    "\n",
    "    mlflow.end_run()\n",
    "\n",
    "plt.figure(figsize=(15, 7))\n",
    "# Plot learning curve\n",
    "plt.subplot(1, 2, 1) \n",
    "plt.plot(range(1, n_epoch+1), train_losses, label='Train')\n",
    "plt.plot(range(1, n_epoch+1),test_losses, label='Test')\n",
    "plt.xlabel('Epochs')\n",
    "plt.ylabel('Loss')\n",
    "plt.title('Losses vs Epochs', fontweight='bold')\n",
    "plt.legend()\n",
    "\n",
    "# Plot f1 \n",
    "plt.subplot(1, 2, 2)\n",
    "plt.plot(range(1, n_epoch+1), train_f1_scores, label='Train')\n",
    "plt.plot(range(1, n_epoch+1), test_f1_scores, label='Test')\n",
    "plt.xlabel('Epochs')\n",
    "plt.ylabel('F1 Score')\n",
    "plt.title('F1 scores vs Epochs', fontweight='bold')\n",
    "plt.legend()\n",
    "\n",
    "plt.show()\n",
    "\n",
    "print(\"Train Classification Report:\")\n",
    "print(train_reports[-1])\n",
    "    \n",
    "print(\"Test Classification Report:\")\n",
    "print(test_reports[-1])"
   ]
  },
  {
   "cell_type": "code",
   "execution_count": 45,
   "metadata": {},
   "outputs": [
    {
     "data": {
      "text/plain": [
       "0.9891917610978161"
      ]
     },
     "execution_count": 45,
     "metadata": {},
     "output_type": "execute_result"
    }
   ],
   "source": [
    "test_f1_scores[-1]"
   ]
  },
  {
   "cell_type": "code",
   "execution_count": null,
   "metadata": {},
   "outputs": [],
   "source": []
  }
 ],
 "metadata": {
  "kernelspec": {
   "display_name": "it_academy",
   "language": "python",
   "name": "python3"
  },
  "language_info": {
   "codemirror_mode": {
    "name": "ipython",
    "version": 3
   },
   "file_extension": ".py",
   "mimetype": "text/x-python",
   "name": "python",
   "nbconvert_exporter": "python",
   "pygments_lexer": "ipython3",
   "version": "3.11.7"
  }
 },
 "nbformat": 4,
 "nbformat_minor": 2
}
